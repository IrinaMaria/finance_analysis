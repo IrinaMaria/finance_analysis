{
 "cells": [
  {
   "cell_type": "markdown",
   "metadata": {},
   "source": [
    "# Conduct a financial analysis of stocks for the companies in the Standard and Poor's S&P 100. "
   ]
  },
  {
   "cell_type": "code",
   "execution_count": 3,
   "metadata": {},
   "outputs": [],
   "source": [
    "import pandas as pd \n",
    "import numpy as np\n",
    "import matplotlib.pyplot as plt\n",
    "import datetime"
   ]
  },
  {
   "cell_type": "markdown",
   "metadata": {},
   "source": [
    "## Step 1: Examine the lists"
   ]
  },
  {
   "cell_type": "markdown",
   "metadata": {},
   "source": [
    "#### Reading the file and exploring the data set. "
   ]
  },
  {
   "cell_type": "code",
   "execution_count": 4,
   "metadata": {},
   "outputs": [],
   "source": [
    "df = pd.read_csv('sector.csv')"
   ]
  },
  {
   "cell_type": "code",
   "execution_count": 5,
   "metadata": {},
   "outputs": [
    {
     "data": {
      "text/plain": [
       "Index(['Name', 'Sector', 'Price', 'EPS'], dtype='object')"
      ]
     },
     "execution_count": 5,
     "metadata": {},
     "output_type": "execute_result"
    }
   ],
   "source": [
    "df.columns"
   ]
  },
  {
   "cell_type": "code",
   "execution_count": 6,
   "metadata": {},
   "outputs": [
    {
     "data": {
      "text/html": [
       "<div>\n",
       "<style scoped>\n",
       "    .dataframe tbody tr th:only-of-type {\n",
       "        vertical-align: middle;\n",
       "    }\n",
       "\n",
       "    .dataframe tbody tr th {\n",
       "        vertical-align: top;\n",
       "    }\n",
       "\n",
       "    .dataframe thead th {\n",
       "        text-align: right;\n",
       "    }\n",
       "</style>\n",
       "<table border=\"1\" class=\"dataframe\">\n",
       "  <thead>\n",
       "    <tr style=\"text-align: right;\">\n",
       "      <th></th>\n",
       "      <th>Name</th>\n",
       "      <th>Sector</th>\n",
       "      <th>Price</th>\n",
       "      <th>EPS</th>\n",
       "    </tr>\n",
       "  </thead>\n",
       "  <tbody>\n",
       "    <tr>\n",
       "      <th>0</th>\n",
       "      <td>Apple Inc</td>\n",
       "      <td>Information Technology</td>\n",
       "      <td>170.12</td>\n",
       "      <td>9.20</td>\n",
       "    </tr>\n",
       "    <tr>\n",
       "      <th>1</th>\n",
       "      <td>Abbvie Inc</td>\n",
       "      <td>Health Care</td>\n",
       "      <td>93.29</td>\n",
       "      <td>5.31</td>\n",
       "    </tr>\n",
       "    <tr>\n",
       "      <th>2</th>\n",
       "      <td>Abbott Laboratories</td>\n",
       "      <td>Health Care</td>\n",
       "      <td>55.28</td>\n",
       "      <td>2.41</td>\n",
       "    </tr>\n",
       "    <tr>\n",
       "      <th>3</th>\n",
       "      <td>Accenture Plc</td>\n",
       "      <td>Information Technology</td>\n",
       "      <td>145.30</td>\n",
       "      <td>5.91</td>\n",
       "    </tr>\n",
       "    <tr>\n",
       "      <th>4</th>\n",
       "      <td>Allergan Plc</td>\n",
       "      <td>Health Care</td>\n",
       "      <td>171.81</td>\n",
       "      <td>15.42</td>\n",
       "    </tr>\n",
       "  </tbody>\n",
       "</table>\n",
       "</div>"
      ],
      "text/plain": [
       "                  Name                  Sector   Price    EPS\n",
       "0            Apple Inc  Information Technology  170.12   9.20\n",
       "1           Abbvie Inc             Health Care   93.29   5.31\n",
       "2  Abbott Laboratories             Health Care   55.28   2.41\n",
       "3        Accenture Plc  Information Technology  145.30   5.91\n",
       "4         Allergan Plc             Health Care  171.81  15.42"
      ]
     },
     "execution_count": 6,
     "metadata": {},
     "output_type": "execute_result"
    }
   ],
   "source": [
    "df.head()"
   ]
  },
  {
   "cell_type": "code",
   "execution_count": 7,
   "metadata": {},
   "outputs": [
    {
     "data": {
      "text/plain": [
       "(102, 4)"
      ]
     },
     "execution_count": 7,
     "metadata": {},
     "output_type": "execute_result"
    }
   ],
   "source": [
    "df.shape"
   ]
  },
  {
   "cell_type": "markdown",
   "metadata": {},
   "source": [
    "#### Defining Lists "
   ]
  },
  {
   "cell_type": "code",
   "execution_count": 8,
   "metadata": {},
   "outputs": [],
   "source": [
    "names, prices, earnings,sectors = df['Name'],df['Price'],df['EPS'],df['Sector']"
   ]
  },
  {
   "cell_type": "markdown",
   "metadata": {},
   "source": [
    "#### Filtering the first four items of names "
   ]
  },
  {
   "cell_type": "code",
   "execution_count": 9,
   "metadata": {},
   "outputs": [
    {
     "name": "stdout",
     "output_type": "stream",
     "text": [
      "0              Apple Inc\n",
      "1             Abbvie Inc\n",
      "2    Abbott Laboratories\n",
      "3          Accenture Plc\n",
      "Name: Name, dtype: object\n"
     ]
    }
   ],
   "source": [
    "print(names[0:4])"
   ]
  },
  {
   "cell_type": "markdown",
   "metadata": {},
   "source": [
    "#### Filtering information on last company in the dataset"
   ]
  },
  {
   "cell_type": "code",
   "execution_count": 14,
   "metadata": {},
   "outputs": [
    {
     "name": "stdout",
     "output_type": "stream",
     "text": [
      "Exxon Mobil Corp\n",
      "80.31\n",
      "3.56\n",
      "Energy\n"
     ]
    }
   ],
   "source": [
    "print(names[101])\n",
    "print(prices[101])\n",
    "print(earnings[101])\n",
    "print(sectors[101])"
   ]
  },
  {
   "cell_type": "markdown",
   "metadata": {},
   "source": [
    "## Step 2: Convert lists to arrays and perform array opeartions"
   ]
  },
  {
   "cell_type": "code",
   "execution_count": 11,
   "metadata": {},
   "outputs": [],
   "source": [
    "prices_array=np.array(prices)\n",
    "earnings_array = np.array(earnings)"
   ]
  },
  {
   "cell_type": "markdown",
   "metadata": {},
   "source": [
    "#### Calculating P/E ratio "
   ]
  },
  {
   "cell_type": "code",
   "execution_count": 12,
   "metadata": {},
   "outputs": [
    {
     "name": "stdout",
     "output_type": "stream",
     "text": [
      "[  18.49130435   17.56873823   22.93775934   24.58544839   11.14202335\n",
      "   23.70517928   14.8011782    13.42845787  285.99492386   17.99233716\n",
      "   27.18358974   15.25714286   14.44742937   15.19596542   21.99767981\n",
      "   20.43243243   28.81875994   13.8477842    24.75135135   16.075\n",
      "  215.0310559    25.14285714   17.88613861   11.64379947 2494.5\n",
      "   29.41924399   16.76497696   12.29071804   32.16806723   24.02313625\n",
      "   18.07368421   19.91235955   19.43169399   23.31007752   16.66129032\n",
      "    7.20833333   34.51637765   18.2829555    15.84375      16.21875\n",
      "   19.73187686   14.44354839    7.47703549    7.22778675   34.09708738\n",
      "   34.6196853    12.3984375    56.94520548   24.44396552   21.30071942\n",
      "   11.08345534   14.11320755   19.40336134   14.20461095   22.63764045\n",
      "   26.21538462   24.12698413   20.28606357   24.60141509   18.76267281\n",
      "   34.78654292   26.0953125    20.72682927   16.95522388    9.97115385\n",
      "   25.97653631   21.04746835   21.37251356   13.81491003   13.5900277\n",
      "   24.40532544   23.34332834   25.30212766   19.20392157  194.77142857\n",
      "   23.66997985   22.55859375   14.152        22.19346734   23.01781737\n",
      "   54.67857143   17.67989418   24.36772487   27.45410628   47.69767442\n",
      "   18.58909091   26.32231405   11.80546075   11.71805274   14.62376238\n",
      "   24.28325123   21.84895833   20.4204947    18.92976589   15.39465875\n",
      "   17.68126888   31.68678161   12.22666667   13.7745098    13.04830918\n",
      "   22.03669725   22.55898876]\n"
     ]
    }
   ],
   "source": [
    "pe = (prices_array/earnings_array)\n",
    "print(pe)"
   ]
  },
  {
   "cell_type": "markdown",
   "metadata": {},
   "source": [
    "#### Filtering arrays by sector Information Technology "
   ]
  },
  {
   "cell_type": "code",
   "execution_count": 54,
   "metadata": {},
   "outputs": [
    {
     "name": "stdout",
     "output_type": "stream",
     "text": [
      "['Apple Inc' 'Accenture Plc' 'Cisco Systems Inc' 'Facebook Inc'\n",
      " 'Alphabet Class C' 'Alphabet Class A' 'International Business Machines'\n",
      " 'Intel Corp' 'Mastercard Inc' 'Microsoft Corp' 'Oracle Corp'\n",
      " 'Paypal Holdings' 'Qualcomm Inc' 'Texas Instruments' 'Visa Inc']\n",
      "[18.49130435 24.58544839 16.76497696 34.51637765 34.09708738 34.6196853\n",
      " 11.08345534 14.11320755 34.78654292 24.40532544 19.20392157 54.67857143\n",
      " 17.67989418 24.28325123 31.68678161]\n"
     ]
    }
   ],
   "source": [
    "boolean_array = (sectors == 'Information Technology')\n",
    "it_names = names[boolean_array]\n",
    "it_pe = pe[boolean_array]\n",
    "print(it_names.values)\n",
    "print(it_pe)\n"
   ]
  },
  {
   "cell_type": "markdown",
   "metadata": {},
   "source": [
    "#### Filtering arrays by sector Consumer Staples"
   ]
  },
  {
   "cell_type": "code",
   "execution_count": 55,
   "metadata": {},
   "outputs": [
    {
     "name": "stdout",
     "output_type": "stream",
     "text": [
      "['Colgate-Palmolive Company' 'Costco Wholesale' 'CVS Corp'\n",
      " 'Kraft Heinz Co' 'Coca-Cola Company' 'Mondelez Intl Cmn A' 'Altria Group'\n",
      " 'Pepsico Inc' 'Procter & Gamble Company'\n",
      " 'Philip Morris International Inc' 'Walgreens Boots Alliance'\n",
      " 'Wal-Mart Stores']\n",
      "[25.14285714 29.41924399 12.29071804 22.63764045 24.12698413 20.72682927\n",
      " 21.04746835 22.55859375 22.19346734 23.01781737 13.7745098  22.03669725]\n"
     ]
    }
   ],
   "source": [
    "boolean_array = (sectors == 'Consumer Staples')\n",
    "cs_names = names[boolean_array]\n",
    "cs_pe = pe[boolean_array]\n",
    "print(cs_names.values)\n",
    "print(cs_pe)"
   ]
  },
  {
   "cell_type": "markdown",
   "metadata": {},
   "source": [
    "#### Summarizing sector data - calculate the mean and standard deviation of P/E ratios for Information Technology and Consumer Staples sectors"
   ]
  },
  {
   "cell_type": "code",
   "execution_count": 23,
   "metadata": {},
   "outputs": [
    {
     "name": "stdout",
     "output_type": "stream",
     "text": [
      "26.33\n",
      "10.87\n"
     ]
    }
   ],
   "source": [
    "it_pe_mean = np.mean(it_pe)\n",
    "it_pe_std = np.std(it_pe)\n",
    "print(round(it_pe_mean,2))\n",
    "print(round(it_pe_std,2))"
   ]
  },
  {
   "cell_type": "code",
   "execution_count": 25,
   "metadata": {},
   "outputs": [
    {
     "name": "stdout",
     "output_type": "stream",
     "text": [
      "21.58\n",
      "4.41\n"
     ]
    }
   ],
   "source": [
    "cs_pe_mean = np.mean(cs_pe)\n",
    "cs_pe_std = np.std(cs_pe)\n",
    "print(round(cs_pe_mean,2))\n",
    "print(round(cs_pe_std,2))"
   ]
  },
  {
   "cell_type": "markdown",
   "metadata": {},
   "source": [
    "# Step3: Visualizations "
   ]
  },
  {
   "cell_type": "markdown",
   "metadata": {},
   "source": [
    "#### Plot P/E ratios -  take a closer look at the P/E ratios using a scatter plot for each company in these two sectors.ake a closer look at the P/E ratios using a scatter plot for each company in these two sectors."
   ]
  },
  {
   "cell_type": "code",
   "execution_count": 71,
   "metadata": {},
   "outputs": [
    {
     "data": {
      "image/png": "[encoded data removed]",
      "text/plain": [
       "<Figure size 432x288 with 1 Axes>"
      ]
     },
     "metadata": {
      "needs_background": "light"
     },
     "output_type": "display_data"
    }
   ],
   "source": [
    "x_axis_it= np.arange (0,len(it_names),1)\n",
    "x_axis_cs= np.arange (0,len(cs_names),1)\n",
    "plt.scatter(x_axis_it,it_pe, color = 'red', label = 'IT')\n",
    "plt.scatter(x_axis_cs,cs_pe, color = 'green', label = 'CS')\n",
    "plt.legend()\n",
    "plt.xlabel('Company ID')\n",
    "plt.ylabel('P/E Ratio')\n",
    "plt.show()"
   ]
  },
  {
   "cell_type": "markdown",
   "metadata": {},
   "source": [
    "__From the above plot we can see that there is an outlier coesponding to the IT sector.__"
   ]
  },
  {
   "cell_type": "markdown",
   "metadata": {},
   "source": [
    "#### Histogram of P/E ratios - To visualize and understand the distribution of the P/E ratios in the IT sector "
   ]
  },
  {
   "cell_type": "code",
   "execution_count": 35,
   "metadata": {},
   "outputs": [
    {
     "data": {
      "image/png": "[encoded data removed]",
      "text/plain": [
       "<Figure size 432x288 with 1 Axes>"
      ]
     },
     "metadata": {
      "needs_background": "light"
     },
     "output_type": "display_data"
    }
   ],
   "source": [
    "plt.hist(x=it_pe, bins=8)\n",
    "plt.xlabel('P/E ratio')\n",
    "plt.ylabel('Frequency')\n",
    "plt.show()"
   ]
  },
  {
   "cell_type": "markdown",
   "metadata": {},
   "source": [
    "__From the above histogram we observe that there is a stock (outlier) with P/E ratio > 50__  "
   ]
  },
  {
   "cell_type": "markdown",
   "metadata": {},
   "source": [
    "#### Identifying the name of the company (outlier)"
   ]
  },
  {
   "cell_type": "code",
   "execution_count": 69,
   "metadata": {},
   "outputs": [
    {
     "name": "stdout",
     "output_type": "stream",
     "text": [
      "['Paypal Holdings']\n",
      "Companies found = 1\n"
     ]
    }
   ],
   "source": [
    "value1 = 50\n",
    "outlier_price = it_pe [it_pe > value1]\n",
    "outlier_name = it_names [it_pe > value1].values\n",
    "print(outlier_name)\n",
    "print(f\"Companies found = {len(outlier_name)}\")"
   ]
  },
  {
   "cell_type": "code",
   "execution_count": 70,
   "metadata": {},
   "outputs": [
    {
     "name": "stdout",
     "output_type": "stream",
     "text": [
      "['In 2017, Paypal Holdings had an abnormally high P/E ratio of 54.68.']\n"
     ]
    }
   ],
   "source": [
    "list_items = []\n",
    "for i in range (len(outlier_name)):\n",
    "    list_items = list_items + [\"In 2017, \" + outlier_name[i] +\" had an abnormally high P/E ratio of \"+ str(round(outlier_price[i],2))+\".\"]\n",
    "print(list_items)"
   ]
  },
  {
   "cell_type": "code",
   "execution_count": 72,
   "metadata": {},
   "outputs": [
    {
     "name": "stdout",
     "output_type": "stream",
     "text": [
      "2021-03-24 21:13:42.016729\n"
     ]
    }
   ],
   "source": [
    "now = datetime.datetime.now()\n",
    "print(now)"
   ]
  },
  {
   "cell_type": "code",
   "execution_count": null,
   "metadata": {},
   "outputs": [],
   "source": []
  }
 ],
 "metadata": {
  "kernelspec": {
   "display_name": "Python 3",
   "language": "python",
   "name": "python3"
  },
  "language_info": {
   "codemirror_mode": {
    "name": "ipython",
    "version": 3
   },
   "file_extension": ".py",
   "mimetype": "text/x-python",
   "name": "python",
   "nbconvert_exporter": "python",
   "pygments_lexer": "ipython3",
   "version": "3.8.5"
  }
 },
 "nbformat": 4,
 "nbformat_minor": 4
}
