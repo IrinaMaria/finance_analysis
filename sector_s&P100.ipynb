{
 "cells": [
  {
   "cell_type": "markdown",
   "metadata": {},
   "source": [
    "# Conduct a financial analysis of stocks for the companies in the Standard and Poor's S&P 100. "
   ]
  },
  {
   "cell_type": "code",
   "execution_count": 3,
   "metadata": {},
   "outputs": [],
   "source": [
    "import pandas as pd \n",
    "import numpy as np\n",
    "import matplotlib.pyplot as plt"
   ]
  },
  {
   "cell_type": "markdown",
   "metadata": {},
   "source": [
    "## Step 1: Examine the lists"
   ]
  },
  {
   "cell_type": "markdown",
   "metadata": {},
   "source": [
    "#### Reading the file and exploring the data set. "
   ]
  },
  {
   "cell_type": "code",
   "execution_count": 4,
   "metadata": {},
   "outputs": [],
   "source": [
    "df = pd.read_csv('sector.csv')"
   ]
  },
  {
   "cell_type": "code",
   "execution_count": 5,
   "metadata": {},
   "outputs": [
    {
     "data": {
      "text/plain": [
       "Index(['Name', 'Sector', 'Price', 'EPS'], dtype='object')"
      ]
     },
     "execution_count": 5,
     "metadata": {},
     "output_type": "execute_result"
    }
   ],
   "source": [
    "df.columns"
   ]
  },
  {
   "cell_type": "code",
   "execution_count": 6,
   "metadata": {},
   "outputs": [
    {
     "data": {
      "text/html": [
       "<div>\n",
       "<style scoped>\n",
       "    .dataframe tbody tr th:only-of-type {\n",
       "        vertical-align: middle;\n",
       "    }\n",
       "\n",
       "    .dataframe tbody tr th {\n",
       "        vertical-align: top;\n",
       "    }\n",
       "\n",
       "    .dataframe thead th {\n",
       "        text-align: right;\n",
       "    }\n",
       "</style>\n",
       "<table border=\"1\" class=\"dataframe\">\n",
       "  <thead>\n",
       "    <tr style=\"text-align: right;\">\n",
       "      <th></th>\n",
       "      <th>Name</th>\n",
       "      <th>Sector</th>\n",
       "      <th>Price</th>\n",
       "      <th>EPS</th>\n",
       "    </tr>\n",
       "  </thead>\n",
       "  <tbody>\n",
       "    <tr>\n",
       "      <th>0</th>\n",
       "      <td>Apple Inc</td>\n",
       "      <td>Information Technology</td>\n",
       "      <td>170.12</td>\n",
       "      <td>9.20</td>\n",
       "    </tr>\n",
       "    <tr>\n",
       "      <th>1</th>\n",
       "      <td>Abbvie Inc</td>\n",
       "      <td>Health Care</td>\n",
       "      <td>93.29</td>\n",
       "      <td>5.31</td>\n",
       "    </tr>\n",
       "    <tr>\n",
       "      <th>2</th>\n",
       "      <td>Abbott Laboratories</td>\n",
       "      <td>Health Care</td>\n",
       "      <td>55.28</td>\n",
       "      <td>2.41</td>\n",
       "    </tr>\n",
       "    <tr>\n",
       "      <th>3</th>\n",
       "      <td>Accenture Plc</td>\n",
       "      <td>Information Technology</td>\n",
       "      <td>145.30</td>\n",
       "      <td>5.91</td>\n",
       "    </tr>\n",
       "    <tr>\n",
       "      <th>4</th>\n",
       "      <td>Allergan Plc</td>\n",
       "      <td>Health Care</td>\n",
       "      <td>171.81</td>\n",
       "      <td>15.42</td>\n",
       "    </tr>\n",
       "  </tbody>\n",
       "</table>\n",
       "</div>"
      ],
      "text/plain": [
       "                  Name                  Sector   Price    EPS\n",
       "0            Apple Inc  Information Technology  170.12   9.20\n",
       "1           Abbvie Inc             Health Care   93.29   5.31\n",
       "2  Abbott Laboratories             Health Care   55.28   2.41\n",
       "3        Accenture Plc  Information Technology  145.30   5.91\n",
       "4         Allergan Plc             Health Care  171.81  15.42"
      ]
     },
     "execution_count": 6,
     "metadata": {},
     "output_type": "execute_result"
    }
   ],
   "source": [
    "df.head()"
   ]
  },
  {
   "cell_type": "code",
   "execution_count": 7,
   "metadata": {},
   "outputs": [
    {
     "data": {
      "text/plain": [
       "(102, 4)"
      ]
     },
     "execution_count": 7,
     "metadata": {},
     "output_type": "execute_result"
    }
   ],
   "source": [
    "df.shape"
   ]
  },
  {
   "cell_type": "markdown",
   "metadata": {},
   "source": [
    "#### Defining Lists "
   ]
  },
  {
   "cell_type": "code",
   "execution_count": 25,
   "metadata": {},
   "outputs": [],
   "source": [
    "names, prices, earnings,sectors = df['Name'],df['Price'],df['EPS'],df['Sector']"
   ]
  },
  {
   "cell_type": "markdown",
   "metadata": {},
   "source": [
    "#### Filtering the first four items of names "
   ]
  },
  {
   "cell_type": "code",
   "execution_count": 26,
   "metadata": {},
   "outputs": [
    {
     "name": "stdout",
     "output_type": "stream",
     "text": [
      "0              Apple Inc\n",
      "1             Abbvie Inc\n",
      "2    Abbott Laboratories\n",
      "3          Accenture Plc\n",
      "Name: Name, dtype: object\n"
     ]
    }
   ],
   "source": [
    "print(names[0:4])"
   ]
  },
  {
   "cell_type": "markdown",
   "metadata": {},
   "source": [
    "#### Filtering information on last company in the dataset"
   ]
  },
  {
   "cell_type": "code",
   "execution_count": 27,
   "metadata": {},
   "outputs": [
    {
     "name": "stdout",
     "output_type": "stream",
     "text": [
      "Exxon Mobil Corp\n",
      "80.31\n",
      "3.56\n",
      "Energy\n"
     ]
    }
   ],
   "source": [
    "print(names[101])\n",
    "print(prices[101])\n",
    "print(earnings[101])\n",
    "print(sectors[101])"
   ]
  },
  {
   "cell_type": "markdown",
   "metadata": {},
   "source": [
    "## Step 2: Convert lists to arrays and perform array opeartions"
   ]
  },
  {
   "cell_type": "code",
   "execution_count": 28,
   "metadata": {},
   "outputs": [],
   "source": [
    "prices_array=np.array(prices)\n",
    "earnings_array = np.array(earnings)"
   ]
  },
  {
   "cell_type": "markdown",
   "metadata": {},
   "source": [
    "#### Calculating P/E ratio "
   ]
  },
  {
   "cell_type": "code",
   "execution_count": 29,
   "metadata": {},
   "outputs": [
    {
     "name": "stdout",
     "output_type": "stream",
     "text": [
      "[  18.49130435   17.56873823   22.93775934   24.58544839   11.14202335\n",
      "   23.70517928   14.8011782    13.42845787  285.99492386   17.99233716\n",
      "   27.18358974   15.25714286   14.44742937   15.19596542   21.99767981\n",
      "   20.43243243   28.81875994   13.8477842    24.75135135   16.075\n",
      "  215.0310559    25.14285714   17.88613861   11.64379947 2494.5\n",
      "   29.41924399   16.76497696   12.29071804   32.16806723   24.02313625\n",
      "   18.07368421   19.91235955   19.43169399   23.31007752   16.66129032\n",
      "    7.20833333   34.51637765   18.2829555    15.84375      16.21875\n",
      "   19.73187686   14.44354839    7.47703549    7.22778675   34.09708738\n",
      "   34.6196853    12.3984375    56.94520548   24.44396552   21.30071942\n",
      "   11.08345534   14.11320755   19.40336134   14.20461095   22.63764045\n",
      "   26.21538462   24.12698413   20.28606357   24.60141509   18.76267281\n",
      "   34.78654292   26.0953125    20.72682927   16.95522388    9.97115385\n",
      "   25.97653631   21.04746835   21.37251356   13.81491003   13.5900277\n",
      "   24.40532544   23.34332834   25.30212766   19.20392157  194.77142857\n",
      "   23.66997985   22.55859375   14.152        22.19346734   23.01781737\n",
      "   54.67857143   17.67989418   24.36772487   27.45410628   47.69767442\n",
      "   18.58909091   26.32231405   11.80546075   11.71805274   14.62376238\n",
      "   24.28325123   21.84895833   20.4204947    18.92976589   15.39465875\n",
      "   17.68126888   31.68678161   12.22666667   13.7745098    13.04830918\n",
      "   22.03669725   22.55898876]\n"
     ]
    }
   ],
   "source": [
    "pe = (prices_array/earnings_array)\n",
    "print(pe)"
   ]
  },
  {
   "cell_type": "markdown",
   "metadata": {},
   "source": [
    "#### Filtering arrays by sector Information Technology "
   ]
  },
  {
   "cell_type": "code",
   "execution_count": 30,
   "metadata": {},
   "outputs": [
    {
     "name": "stdout",
     "output_type": "stream",
     "text": [
      "0                           Apple Inc\n",
      "3                       Accenture Plc\n",
      "26                  Cisco Systems Inc\n",
      "36                       Facebook Inc\n",
      "44                   Alphabet Class C\n",
      "45                   Alphabet Class A\n",
      "50    International Business Machines\n",
      "51                         Intel Corp\n",
      "60                     Mastercard Inc\n",
      "70                     Microsoft Corp\n",
      "73                        Oracle Corp\n",
      "80                    Paypal Holdings\n",
      "81                       Qualcomm Inc\n",
      "90                  Texas Instruments\n",
      "96                           Visa Inc\n",
      "Name: Name, dtype: object\n",
      "[18.49130435 24.58544839 16.76497696 34.51637765 34.09708738 34.6196853\n",
      " 11.08345534 14.11320755 34.78654292 24.40532544 19.20392157 54.67857143\n",
      " 17.67989418 24.28325123 31.68678161]\n"
     ]
    }
   ],
   "source": [
    "boolean_array = (sectors == 'Information Technology')\n",
    "it_names = names[boolean_array]\n",
    "it_pe = pe[boolean_array]\n",
    "print(it_names)\n",
    "print(it_pe)\n"
   ]
  },
  {
   "cell_type": "markdown",
   "metadata": {},
   "source": [
    "#### Filtering arrays by sector Consumer Staples"
   ]
  },
  {
   "cell_type": "code",
   "execution_count": 31,
   "metadata": {},
   "outputs": [
    {
     "name": "stdout",
     "output_type": "stream",
     "text": [
      "21           Colgate-Palmolive Company\n",
      "25                    Costco Wholesale\n",
      "27                            CVS Corp\n",
      "54                      Kraft Heinz Co\n",
      "56                   Coca-Cola Company\n",
      "62                 Mondelez Intl Cmn A\n",
      "66                        Altria Group\n",
      "76                         Pepsico Inc\n",
      "78            Procter & Gamble Company\n",
      "79     Philip Morris International Inc\n",
      "98            Walgreens Boots Alliance\n",
      "100                    Wal-Mart Stores\n",
      "Name: Name, dtype: object\n",
      "[25.14285714 29.41924399 12.29071804 22.63764045 24.12698413 20.72682927\n",
      " 21.04746835 22.55859375 22.19346734 23.01781737 13.7745098  22.03669725]\n"
     ]
    }
   ],
   "source": [
    "boolean_array = (sectors == 'Consumer Staples')\n",
    "cs_names = names[boolean_array]\n",
    "cs_pe = pe[boolean_array]\n",
    "print(cs_names)\n",
    "print(cs_pe)"
   ]
  },
  {
   "cell_type": "markdown",
   "metadata": {},
   "source": [
    "#### Summarizing sector data - calculate the mean and standard deviation of P/E ratios for Information Technology and Consumer Staples sectors"
   ]
  },
  {
   "cell_type": "code",
   "execution_count": 32,
   "metadata": {},
   "outputs": [
    {
     "name": "stdout",
     "output_type": "stream",
     "text": [
      "26.333055420408595\n",
      "10.8661467926753\n"
     ]
    }
   ],
   "source": [
    "it_pe_mean = np.mean(it_pe)\n",
    "it_pe_std = np.std(it_pe)\n",
    "print(it_pe_mean)\n",
    "print(it_pe_std)"
   ]
  },
  {
   "cell_type": "code",
   "execution_count": 33,
   "metadata": {},
   "outputs": [
    {
     "name": "stdout",
     "output_type": "stream",
     "text": [
      "21.581068906419564\n",
      "4.412021654267338\n"
     ]
    }
   ],
   "source": [
    "cs_pe_mean = np.mean(cs_pe)\n",
    "cs_pe_std = np.std(cs_pe)\n",
    "print(cs_pe_mean)\n",
    "print(cs_pe_std)"
   ]
  },
  {
   "cell_type": "markdown",
   "metadata": {},
   "source": [
    "#### <font color=red>Assigning a numeric ID to each of the elements in the following arrrays: it_pe & cs_pe </font>"
   ]
  },
  {
   "cell_type": "markdown",
   "metadata": {},
   "source": [
    "# Step3: Visualizations "
   ]
  },
  {
   "cell_type": "markdown",
   "metadata": {},
   "source": [
    "#### Plot P/E ratios -  take a closer look at the P/E ratios using a scatter plot for each company in these two sectors.ake a closer look at the P/E ratios using a scatter plot for each company in these two sectors."
   ]
  },
  {
   "cell_type": "code",
   "execution_count": 34,
   "metadata": {},
   "outputs": [
    {
     "ename": "NameError",
     "evalue": "name 'it_id' is not defined",
     "output_type": "error",
     "traceback": [
      "\u001b[1;31m---------------------------------------------------------------------------\u001b[0m",
      "\u001b[1;31mNameError\u001b[0m                                 Traceback (most recent call last)",
      "\u001b[1;32m<ipython-input-34-acb83cd5c6e7>\u001b[0m in \u001b[0;36m<module>\u001b[1;34m\u001b[0m\n\u001b[1;32m----> 1\u001b[1;33m \u001b[0mplt\u001b[0m\u001b[1;33m.\u001b[0m\u001b[0mscatter\u001b[0m\u001b[1;33m(\u001b[0m\u001b[0mit_id\u001b[0m\u001b[1;33m,\u001b[0m\u001b[0mit_pe\u001b[0m\u001b[1;33m,\u001b[0m \u001b[0mcolor\u001b[0m \u001b[1;33m=\u001b[0m \u001b[1;34m'red'\u001b[0m\u001b[1;33m,\u001b[0m \u001b[0mlabel\u001b[0m \u001b[1;33m=\u001b[0m \u001b[1;34m'IT'\u001b[0m\u001b[1;33m)\u001b[0m\u001b[1;33m\u001b[0m\u001b[1;33m\u001b[0m\u001b[0m\n\u001b[0m\u001b[0;32m      2\u001b[0m \u001b[0mplt\u001b[0m\u001b[1;33m.\u001b[0m\u001b[0mscatter\u001b[0m\u001b[1;33m(\u001b[0m\u001b[0mcs_id\u001b[0m\u001b[1;33m,\u001b[0m\u001b[0mcs_pe\u001b[0m\u001b[1;33m,\u001b[0m \u001b[0mcolor\u001b[0m \u001b[1;33m=\u001b[0m \u001b[1;34m'green'\u001b[0m\u001b[1;33m,\u001b[0m \u001b[0mlabel\u001b[0m \u001b[1;33m=\u001b[0m \u001b[1;34m'CS'\u001b[0m\u001b[1;33m)\u001b[0m\u001b[1;33m\u001b[0m\u001b[1;33m\u001b[0m\u001b[0m\n\u001b[0;32m      3\u001b[0m \u001b[0mplt\u001b[0m\u001b[1;33m.\u001b[0m\u001b[0mlegend\u001b[0m\u001b[1;33m(\u001b[0m\u001b[1;33m)\u001b[0m\u001b[1;33m\u001b[0m\u001b[1;33m\u001b[0m\u001b[0m\n\u001b[0;32m      4\u001b[0m \u001b[0mplt\u001b[0m\u001b[1;33m.\u001b[0m\u001b[0mxlabel\u001b[0m\u001b[1;33m(\u001b[0m\u001b[1;34m'Company ID'\u001b[0m\u001b[1;33m)\u001b[0m\u001b[1;33m\u001b[0m\u001b[1;33m\u001b[0m\u001b[0m\n\u001b[0;32m      5\u001b[0m \u001b[0mplt\u001b[0m\u001b[1;33m.\u001b[0m\u001b[0mylabel\u001b[0m\u001b[1;33m(\u001b[0m\u001b[1;34m'P/E Ratio'\u001b[0m\u001b[1;33m)\u001b[0m\u001b[1;33m\u001b[0m\u001b[1;33m\u001b[0m\u001b[0m\n",
      "\u001b[1;31mNameError\u001b[0m: name 'it_id' is not defined"
     ]
    }
   ],
   "source": [
    "plt.scatter(it_id,it_pe, color = 'red', label = 'IT')\n",
    "plt.scatter(cs_id,cs_pe, color = 'green', label = 'CS')\n",
    "plt.legend()\n",
    "plt.xlabel('Company ID')\n",
    "plt.ylabel('P/E Ratio')\n",
    "plt.show()"
   ]
  },
  {
   "cell_type": "markdown",
   "metadata": {},
   "source": [
    "__From the above plot we can see that there is an outlier coesponding to the IT sector.__"
   ]
  },
  {
   "cell_type": "markdown",
   "metadata": {},
   "source": [
    "#### Histogram of P/E ratios - To visualize and understand the distribution of the P/E ratios in the IT sector "
   ]
  },
  {
   "cell_type": "code",
   "execution_count": 35,
   "metadata": {},
   "outputs": [
    {
     "data": {
      "image/png": "[encoded data removed]",
      "text/plain": [
       "<Figure size 432x288 with 1 Axes>"
      ]
     },
     "metadata": {
      "needs_background": "light"
     },
     "output_type": "display_data"
    }
   ],
   "source": [
    "plt.hist(x=it_pe, bins=8)\n",
    "plt.xlabel('P/E ratio')\n",
    "plt.ylabel('Frequency')\n",
    "plt.show()"
   ]
  },
  {
   "cell_type": "markdown",
   "metadata": {},
   "source": [
    "__From the above histogram we observe that there is a stock (outlier) with P/E ratio > 50__  "
   ]
  },
  {
   "cell_type": "markdown",
   "metadata": {},
   "source": [
    "#### Identifying the name of the company (outlier)"
   ]
  },
  {
   "cell_type": "code",
   "execution_count": 36,
   "metadata": {},
   "outputs": [
    {
     "name": "stdout",
     "output_type": "stream",
     "text": [
      "80    Paypal Holdings\n",
      "Name: Name, dtype: object\n"
     ]
    }
   ],
   "source": [
    "outlier_price = it_pe [it_pe > 50]\n",
    "outlier_name = it_names [it_pe > 50]\n",
    "print(outlier_name)"
   ]
  },
  {
   "cell_type": "code",
   "execution_count": 37,
   "metadata": {},
   "outputs": [
    {
     "name": "stdout",
     "output_type": "stream",
     "text": [
      "In 2017,80    Paypal Holdings\n",
      "Name: Name, dtype: objecthad an abnormally high P/E ratio of54.68.\n"
     ]
    }
   ],
   "source": [
    "print(\"In 2017,\" +str(outlier_name)+\"had an abnormally high P/E ratio of\"+ str(round(outlier_price[0],2))+\".\")"
   ]
  },
  {
   "cell_type": "code",
   "execution_count": null,
   "metadata": {},
   "outputs": [],
   "source": []
  },
  {
   "cell_type": "markdown",
   "metadata": {},
   "source": [
    "### Still to do: \n",
    "\n",
    "* Major Error: Assign ID to the Co Name & PE array \n",
    "* Minor Error: remove the number that is attached to the Company name by default? eg. 80    Paypal Holdings \n",
    "             the last message seems to print more than it should \n",
    "             \n",
    "             \n",
    "             \n",
    "    \n",
    "    "
   ]
  },
  {
   "cell_type": "code",
   "execution_count": null,
   "metadata": {},
   "outputs": [],
   "source": []
  }
 ],
 "metadata": {
  "kernelspec": {
   "display_name": "Python 3",
   "language": "python",
   "name": "python3"
  },
  "language_info": {
   "codemirror_mode": {
    "name": "ipython",
    "version": 3
   },
   "file_extension": ".py",
   "mimetype": "text/x-python",
   "name": "python",
   "nbconvert_exporter": "python",
   "pygments_lexer": "ipython3",
   "version": "3.8.5"
  }
 },
 "nbformat": 4,
 "nbformat_minor": 4
}
